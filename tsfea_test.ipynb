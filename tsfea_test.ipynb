{
 "cells": [
  {
   "cell_type": "code",
   "execution_count": 8,
   "metadata": {},
   "outputs": [],
   "source": [
    "%load_ext autoreload"
   ]
  },
  {
   "cell_type": "code",
   "execution_count": 9,
   "metadata": {},
   "outputs": [],
   "source": [
    "%autoreload 2"
   ]
  },
  {
   "cell_type": "code",
   "execution_count": 10,
   "metadata": {},
   "outputs": [],
   "source": [
    "from TSFEA import *"
   ]
  },
  {
   "cell_type": "code",
   "execution_count": 11,
   "metadata": {},
   "outputs": [],
   "source": [
    "tsfea = TSFEA()"
   ]
  },
  {
   "cell_type": "markdown",
   "metadata": {},
   "source": [
    "# Get Earnings Number to Homogenize Dates across Tickers"
   ]
  },
  {
   "cell_type": "code",
   "execution_count": 12,
   "metadata": {},
   "outputs": [
    {
     "data": {
      "text/html": [
       "<div>\n",
       "<style scoped>\n",
       "    .dataframe tbody tr th:only-of-type {\n",
       "        vertical-align: middle;\n",
       "    }\n",
       "\n",
       "    .dataframe tbody tr th {\n",
       "        vertical-align: top;\n",
       "    }\n",
       "\n",
       "    .dataframe thead th {\n",
       "        text-align: right;\n",
       "    }\n",
       "</style>\n",
       "<table border=\"1\" class=\"dataframe\">\n",
       "  <thead>\n",
       "    <tr style=\"text-align: right;\">\n",
       "      <th></th>\n",
       "      <th></th>\n",
       "      <th>CUSIP</th>\n",
       "      <th>OFTIC</th>\n",
       "      <th>CNAME</th>\n",
       "      <th>PENDS</th>\n",
       "      <th>MEASURE</th>\n",
       "      <th>PDICITY</th>\n",
       "      <th>VALUE</th>\n",
       "      <th>ERNUM</th>\n",
       "    </tr>\n",
       "    <tr>\n",
       "      <th>TICKER</th>\n",
       "      <th>ANNDATS</th>\n",
       "      <th></th>\n",
       "      <th></th>\n",
       "      <th></th>\n",
       "      <th></th>\n",
       "      <th></th>\n",
       "      <th></th>\n",
       "      <th></th>\n",
       "      <th></th>\n",
       "    </tr>\n",
       "  </thead>\n",
       "  <tbody>\n",
       "    <tr>\n",
       "      <th>0001</th>\n",
       "      <th>20200325</th>\n",
       "      <td>26878510</td>\n",
       "      <td>EPEGQ</td>\n",
       "      <td>EP ENGR CORP</td>\n",
       "      <td>20191231</td>\n",
       "      <td>EPS</td>\n",
       "      <td>QTR</td>\n",
       "      <td>NaN</td>\n",
       "      <td>15</td>\n",
       "    </tr>\n",
       "    <tr>\n",
       "      <th rowspan=\"4\" valign=\"top\">000V</th>\n",
       "      <th>20220804</th>\n",
       "      <td>28249U10</td>\n",
       "      <td>EIGR</td>\n",
       "      <td>EIGER</td>\n",
       "      <td>20220630</td>\n",
       "      <td>EPS</td>\n",
       "      <td>QTR</td>\n",
       "      <td>-0.51</td>\n",
       "      <td>15</td>\n",
       "    </tr>\n",
       "    <tr>\n",
       "      <th>20220505</th>\n",
       "      <td>28249U10</td>\n",
       "      <td>EIGR</td>\n",
       "      <td>EIGER</td>\n",
       "      <td>20220331</td>\n",
       "      <td>EPS</td>\n",
       "      <td>QTR</td>\n",
       "      <td>-0.64</td>\n",
       "      <td>14</td>\n",
       "    </tr>\n",
       "    <tr>\n",
       "      <th>20220310</th>\n",
       "      <td>28249U10</td>\n",
       "      <td>EIGR</td>\n",
       "      <td>EIGER</td>\n",
       "      <td>20211231</td>\n",
       "      <td>EPS</td>\n",
       "      <td>QTR</td>\n",
       "      <td>-0.64</td>\n",
       "      <td>13</td>\n",
       "    </tr>\n",
       "    <tr>\n",
       "      <th>20211104</th>\n",
       "      <td>28249U10</td>\n",
       "      <td>EIGR</td>\n",
       "      <td>EIGER</td>\n",
       "      <td>20210930</td>\n",
       "      <td>EPS</td>\n",
       "      <td>QTR</td>\n",
       "      <td>-0.65</td>\n",
       "      <td>12</td>\n",
       "    </tr>\n",
       "  </tbody>\n",
       "</table>\n",
       "</div>"
      ],
      "text/plain": [
       "                    CUSIP  OFTIC         CNAME     PENDS MEASURE PDICITY  \\\n",
       "TICKER ANNDATS                                                             \n",
       "0001   20200325  26878510  EPEGQ  EP ENGR CORP  20191231     EPS     QTR   \n",
       "000V   20220804  28249U10   EIGR         EIGER  20220630     EPS     QTR   \n",
       "       20220505  28249U10   EIGR         EIGER  20220331     EPS     QTR   \n",
       "       20220310  28249U10   EIGR         EIGER  20211231     EPS     QTR   \n",
       "       20211104  28249U10   EIGR         EIGER  20210930     EPS     QTR   \n",
       "\n",
       "                 VALUE  ERNUM  \n",
       "TICKER ANNDATS                 \n",
       "0001   20200325    NaN     15  \n",
       "000V   20220804  -0.51     15  \n",
       "       20220505  -0.64     14  \n",
       "       20220310  -0.64     13  \n",
       "       20211104  -0.65     12  "
      ]
     },
     "execution_count": 12,
     "metadata": {},
     "output_type": "execute_result"
    }
   ],
   "source": [
    "homogenized_earnings = tsfea.homogenize_earnings_dates('ActualEarningsData.csv')\n",
    "homogenized_earnings.head()"
   ]
  },
  {
   "cell_type": "markdown",
   "metadata": {},
   "source": [
    "# Reconcile Estimates Dates"
   ]
  },
  {
   "cell_type": "code",
   "execution_count": null,
   "metadata": {},
   "outputs": [],
   "source": [
    "reconciled_estimates = tsfea.reconcile_estimates_with_earnings()"
   ]
  }
 ],
 "metadata": {
  "kernelspec": {
   "display_name": "Python 3.8.8 ('base')",
   "language": "python",
   "name": "python3"
  },
  "language_info": {
   "codemirror_mode": {
    "name": "ipython",
    "version": 3
   },
   "file_extension": ".py",
   "mimetype": "text/x-python",
   "name": "python",
   "nbconvert_exporter": "python",
   "pygments_lexer": "ipython3",
   "version": "3.8.8"
  },
  "orig_nbformat": 4,
  "vscode": {
   "interpreter": {
    "hash": "b7c80a8d2c8c3feabecbb58a42c05ad31eb25e6686768c03069bea5ec1b2357f"
   }
  }
 },
 "nbformat": 4,
 "nbformat_minor": 2
}
