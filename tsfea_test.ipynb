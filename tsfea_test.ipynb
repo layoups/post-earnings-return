{
 "cells": [
  {
   "cell_type": "code",
   "execution_count": null,
   "metadata": {},
   "outputs": [],
   "source": [
    "%load_ext autoreload"
   ]
  },
  {
   "cell_type": "code",
   "execution_count": null,
   "metadata": {},
   "outputs": [],
   "source": [
    "%autoreload 2"
   ]
  },
  {
   "cell_type": "code",
   "execution_count": null,
   "metadata": {},
   "outputs": [],
   "source": [
    "from TSFEA import *"
   ]
  },
  {
   "cell_type": "code",
   "execution_count": null,
   "metadata": {},
   "outputs": [],
   "source": [
    "tsfea = TSFEA()"
   ]
  },
  {
   "cell_type": "code",
   "execution_count": null,
   "metadata": {},
   "outputs": [],
   "source": [
    "PATH_TO_EARNINGS = \"enter_path_to_estimates\"\n",
    "PATH_TO_ESTIMATES = \"enter_path_to_estimates\"\n",
    "PATH_TO_RETURNS = \"enter_path_to_returns\""
   ]
  },
  {
   "cell_type": "markdown",
   "metadata": {},
   "source": [
    "# Get Earnings Number to Homogenize Dates across Tickers"
   ]
  },
  {
   "cell_type": "code",
   "execution_count": null,
   "metadata": {},
   "outputs": [],
   "source": [
    "homogenized_earnings = tsfea.homogenize_earnings_dates(PATH_TO_EARNINGS)\n",
    "homogenized_earnings.head()"
   ]
  },
  {
   "cell_type": "markdown",
   "metadata": {},
   "source": [
    "# Reconcile Estimates Dates"
   ]
  },
  {
   "cell_type": "code",
   "execution_count": null,
   "metadata": {},
   "outputs": [],
   "source": [
    "reconciled_estimates = tsfea.reconcile_estimates_with_earnings(\n",
    "    PATH_TO_ESTIMATES,\n",
    "    homogenized_earnings\n",
    ")"
   ]
  },
  {
   "cell_type": "code",
   "execution_count": null,
   "metadata": {},
   "outputs": [],
   "source": [
    "reconciled_estimates.head()"
   ]
  },
  {
   "cell_type": "code",
   "execution_count": null,
   "metadata": {},
   "outputs": [],
   "source": [
    "reconciled_estimates.loc[\"AAPL\"]"
   ]
  },
  {
   "cell_type": "markdown",
   "metadata": {},
   "source": [
    "# Reconcile Returns"
   ]
  },
  {
   "cell_type": "code",
   "execution_count": null,
   "metadata": {},
   "outputs": [],
   "source": [
    "reconciled_returns = tsfea.reconcile_returns_with_earnings(\n",
    "    PATH_TO_RETURNS,\n",
    "    homogenized_earnings\n",
    ")"
   ]
  },
  {
   "cell_type": "code",
   "execution_count": null,
   "metadata": {},
   "outputs": [],
   "source": [
    "reconciled_returns.head()"
   ]
  },
  {
   "cell_type": "markdown",
   "metadata": {},
   "source": [
    "# Feature Extraction"
   ]
  },
  {
   "cell_type": "code",
   "execution_count": null,
   "metadata": {},
   "outputs": [],
   "source": [
    "medest_features = tsfea.extract_features_from_column(\n",
    "    reconciled_estimates,\n",
    "    'MEDEST'\n",
    ")"
   ]
  },
  {
   "cell_type": "code",
   "execution_count": null,
   "metadata": {},
   "outputs": [],
   "source": [
    "medest_features.head()"
   ]
  },
  {
   "cell_type": "code",
   "execution_count": null,
   "metadata": {},
   "outputs": [],
   "source": [
    "medest_features.loc['AAPL']"
   ]
  },
  {
   "cell_type": "code",
   "execution_count": null,
   "metadata": {},
   "outputs": [],
   "source": [
    "return_features = tsfea.extract_features_from_column(\n",
    "    reconciled_returns,\n",
    "    'returns'\n",
    ")"
   ]
  },
  {
   "cell_type": "code",
   "execution_count": null,
   "metadata": {},
   "outputs": [],
   "source": [
    "return_features.head()"
   ]
  },
  {
   "cell_type": "markdown",
   "metadata": {},
   "source": [
    "# Prediction Test"
   ]
  },
  {
   "cell_type": "markdown",
   "metadata": {},
   "source": [
    "### Add Models"
   ]
  },
  {
   "cell_type": "code",
   "execution_count": null,
   "metadata": {},
   "outputs": [],
   "source": [
    "tsfea.models = {\n",
    "    'XGBClf': XGBClassifier(eval_metric='error')\n",
    "}\n",
    "\n",
    "tsfea.hyparam_space = {\n",
    "    'XGBClf': {\n",
    "        'max_depth': scope.int(hp.quniform(\"max_depth\", 3, 18, 1)),\n",
    "        'gamma': hp.uniform ('gamma', 0, 9),\n",
    "        'reg_alpha' : hp.uniform('reg_alpha', 0, 1),\n",
    "        'reg_lambda' : hp.uniform('reg_lambda', 0, 1),\n",
    "        'colsample_bytree' : hp.uniform('colsample_bytree', 0.5, 1),\n",
    "        'min_child_weight' : scope.int(hp.quniform('min_child_weight', 0, 10, 1)),\n",
    "        'n_estimators': scope.int(hp.quniform('n_estimators', 100, 1000, 1))\n",
    "    }\n",
    "}"
   ]
  },
  {
   "cell_type": "markdown",
   "metadata": {},
   "source": [
    "for more details on defining hyperparameter spaces, visit http://hyperopt.github.io/hyperopt/getting-started/search_spaces/, or google hyperparameter tuning [ml model] hyperopt."
   ]
  },
  {
   "cell_type": "code",
   "execution_count": null,
   "metadata": {},
   "outputs": [],
   "source": [
    "target_earnings = homogenized_earnings.droplevel(\n",
    "    1\n",
    ").set_index(\n",
    "    \"ERNUM\",\n",
    "    append=True\n",
    ").sort_index()\n",
    "\n",
    "target_earnings[\"returns\"] = (target_earnings.PostPRC / target_earnings.PrePRC - 1)\n",
    "target_earnings[\"TARGET\"] = pd.to_numeric(target_earnings.returns >= 0)\n",
    "\n",
    "target_earnings = pd.DataFrame(\n",
    "        target_earnings.loc[\n",
    "        :,\n",
    "        [\"TARGET\", \"returns\"]\n",
    "    ]\n",
    ")"
   ]
  },
  {
   "cell_type": "code",
   "execution_count": null,
   "metadata": {},
   "outputs": [],
   "source": [
    "df = target_earnings.join(\n",
    "    return_features, \n",
    "    how='inner'\n",
    ").join(\n",
    "    medest_features,\n",
    "    how='inner'\n",
    ").groupby(\n",
    "    level=[0, 1]\n",
    ").fillna(\n",
    "    method='ffill'\n",
    ").fillna(\n",
    "    0\n",
    ")\n",
    "df.head()"
   ]
  },
  {
   "cell_type": "code",
   "execution_count": null,
   "metadata": {},
   "outputs": [],
   "source": [
    "i, j = 0, 5\n",
    "ret = []\n",
    "while j < df.index.get_level_values(1).max():\n",
    "    (\n",
    "        X_train, \n",
    "        X_test, \n",
    "        y_train, \n",
    "        y_test\n",
    "    ) = (\n",
    "        df.loc[(slice(None), slice(i, j)), :].drop(columns=[\"TARGET\", \"returns\"]),\n",
    "        df.loc[(slice(None), j+1), :].drop(columns=[\"TARGET\", \"returns\"]),\n",
    "        df.loc[(slice(None), slice(i, j)), \"TARGET\"],\n",
    "        df.loc[(slice(None), j+1), \"TARGET\"],\n",
    "    )\n",
    "\n",
    "    y_pred = tsfea.tune_train_predict(\n",
    "        X_train,\n",
    "        X_test,\n",
    "        y_train,\n",
    "        y_test,\n",
    "        'XGBClf',\n",
    "        5,\n",
    "        20\n",
    "    )\n",
    "\n",
    "    temp = pd.Series(y_pred, index=y_test.index).replace(0, -1).mul(df.loc[(slice(None), j+1), \"returns\"]).groupby(level=1).sum()\n",
    "    print(temp)\n",
    "    ret.append(temp)\n",
    "\n",
    "    i += 1\n",
    "    j += 1"
   ]
  },
  {
   "cell_type": "code",
   "execution_count": null,
   "metadata": {},
   "outputs": [],
   "source": [
    "all_ret_rolling = pd.concat(ret)\n",
    "all_ret_rolling.describe()"
   ]
  },
  {
   "cell_type": "code",
   "execution_count": null,
   "metadata": {},
   "outputs": [],
   "source": [
    "all_ret_rolling.plot()"
   ]
  },
  {
   "cell_type": "code",
   "execution_count": null,
   "metadata": {},
   "outputs": [],
   "source": [
    "all_ret_expanding = pd.concat(ret[:-1])\n",
    "all_ret_expanding.describe()"
   ]
  },
  {
   "cell_type": "code",
   "execution_count": null,
   "metadata": {},
   "outputs": [],
   "source": [
    "all_ret_expanding.plot()"
   ]
  },
  {
   "cell_type": "markdown",
   "metadata": {},
   "source": [
    "# Toy Prediction Test"
   ]
  },
  {
   "cell_type": "code",
   "execution_count": null,
   "metadata": {},
   "outputs": [],
   "source": [
    "from sklearn.datasets import load_breast_cancer"
   ]
  },
  {
   "cell_type": "code",
   "execution_count": null,
   "metadata": {},
   "outputs": [],
   "source": [
    "data = load_breast_cancer()\n",
    "X, y = data.data, data.target"
   ]
  },
  {
   "cell_type": "code",
   "execution_count": null,
   "metadata": {},
   "outputs": [],
   "source": [
    "X_train, X_test, y_train, y_test = train_test_split(X, y, test_size=0.25)"
   ]
  },
  {
   "cell_type": "code",
   "execution_count": null,
   "metadata": {},
   "outputs": [],
   "source": [
    "y_pred = tsfea.tune_train_predict(\n",
    "    X_train,\n",
    "    X_test,\n",
    "    y_train,\n",
    "    y_test,\n",
    "    'XGBClf',\n",
    "    15,\n",
    "    50\n",
    ")"
   ]
  }
 ],
 "metadata": {
  "kernelspec": {
   "display_name": "Python 3.10.4 ('ds')",
   "language": "python",
   "name": "python3"
  },
  "language_info": {
   "codemirror_mode": {
    "name": "ipython",
    "version": 3
   },
   "file_extension": ".py",
   "mimetype": "text/x-python",
   "name": "python",
   "nbconvert_exporter": "python",
   "pygments_lexer": "ipython3",
   "version": "3.10.4 | packaged by conda-forge | (main, Mar 24 2022, 17:39:37) [Clang 12.0.1 ]"
  },
  "orig_nbformat": 4,
  "vscode": {
   "interpreter": {
    "hash": "603ed567c460f49dadb4a6b365cbfa909c0b07faf8e95a6f803fbd70f22af347"
   }
  }
 },
 "nbformat": 4,
 "nbformat_minor": 2
}
