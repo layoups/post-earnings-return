{
 "cells": [
  {
   "cell_type": "code",
   "execution_count": 1,
   "id": "becfc7a3",
   "metadata": {},
   "outputs": [],
   "source": [
    "import numpy as np\n",
    "import pandas as pd\n",
    "import time\n",
    "import wrds\n",
    "from matplotlib import pyplot as plt\n",
    "import datetime\n",
    "from dateutil.relativedelta import relativedelta\n",
    "from scipy.interpolate import UnivariateSpline, splev, splrep\n",
    "from scipy.optimize import minimize\n",
    "from math import *\n",
    "np.random.seed(6078)\n",
    "import warnings\n",
    "warnings.filterwarnings('ignore')\n",
    "# from dask.multiprocessing import get\n",
    "# import dask.dataframe as dd"
   ]
  },
  {
   "cell_type": "code",
   "execution_count": 2,
   "id": "4e275c14",
   "metadata": {},
   "outputs": [],
   "source": [
    "opm = pd.read_csv('merged_data.csv', nrows=200000)\n",
    "#opm['date'] = pd.to_datetime(opm['date'], format='%Y-%m-%d')\n",
    "#opm['exdate'] = pd.to_datetime(opm['exdate'], format='%Y-%m-%d')\n",
    "# opm = opm[(opm['exdate'] - opm['date'] == np.timedelta64(-8, 'D'))]\n",
    "opm.rename(columns={'strike_price': 'STRIKE'}, inplace=True)\n",
    "opm['STRIKE'] = opm['STRIKE']/1000"
   ]
  },
  {
   "cell_type": "code",
   "execution_count": 3,
   "id": "4c5f9d79",
   "metadata": {},
   "outputs": [
    {
     "data": {
      "text/html": [
       "<div>\n",
       "<style scoped>\n",
       "    .dataframe tbody tr th:only-of-type {\n",
       "        vertical-align: middle;\n",
       "    }\n",
       "\n",
       "    .dataframe tbody tr th {\n",
       "        vertical-align: top;\n",
       "    }\n",
       "\n",
       "    .dataframe thead th {\n",
       "        text-align: right;\n",
       "    }\n",
       "</style>\n",
       "<table border=\"1\" class=\"dataframe\">\n",
       "  <thead>\n",
       "    <tr style=\"text-align: right;\">\n",
       "      <th></th>\n",
       "      <th>secid</th>\n",
       "      <th>exdate</th>\n",
       "      <th>date</th>\n",
       "      <th>symbol</th>\n",
       "      <th>cp_flag</th>\n",
       "      <th>STRIKE</th>\n",
       "      <th>best_bid</th>\n",
       "      <th>best_offer</th>\n",
       "      <th>volume</th>\n",
       "      <th>open_interest</th>\n",
       "      <th>optionid</th>\n",
       "      <th>forward_price</th>\n",
       "      <th>index_flag</th>\n",
       "      <th>issuer</th>\n",
       "      <th>exercise_style</th>\n",
       "      <th>year</th>\n",
       "    </tr>\n",
       "  </thead>\n",
       "  <tbody>\n",
       "    <tr>\n",
       "      <th>0</th>\n",
       "      <td>210354</td>\n",
       "      <td>20180119</td>\n",
       "      <td>20180112</td>\n",
       "      <td>AA 180119C17000</td>\n",
       "      <td>C</td>\n",
       "      <td>17.0</td>\n",
       "      <td>39.6</td>\n",
       "      <td>39.8</td>\n",
       "      <td>0</td>\n",
       "      <td>0</td>\n",
       "      <td>115694181</td>\n",
       "      <td>NaN</td>\n",
       "      <td>0</td>\n",
       "      <td>ALCOA CORP</td>\n",
       "      <td>A</td>\n",
       "      <td>2018</td>\n",
       "    </tr>\n",
       "    <tr>\n",
       "      <th>1</th>\n",
       "      <td>210354</td>\n",
       "      <td>20180119</td>\n",
       "      <td>20180112</td>\n",
       "      <td>AA 180119C18000</td>\n",
       "      <td>C</td>\n",
       "      <td>18.0</td>\n",
       "      <td>38.5</td>\n",
       "      <td>38.8</td>\n",
       "      <td>0</td>\n",
       "      <td>4</td>\n",
       "      <td>115145533</td>\n",
       "      <td>NaN</td>\n",
       "      <td>0</td>\n",
       "      <td>ALCOA CORP</td>\n",
       "      <td>A</td>\n",
       "      <td>2018</td>\n",
       "    </tr>\n",
       "    <tr>\n",
       "      <th>2</th>\n",
       "      <td>210354</td>\n",
       "      <td>20180119</td>\n",
       "      <td>20180112</td>\n",
       "      <td>AA 180119C19000</td>\n",
       "      <td>C</td>\n",
       "      <td>19.0</td>\n",
       "      <td>37.6</td>\n",
       "      <td>37.9</td>\n",
       "      <td>0</td>\n",
       "      <td>2</td>\n",
       "      <td>115694182</td>\n",
       "      <td>NaN</td>\n",
       "      <td>0</td>\n",
       "      <td>ALCOA CORP</td>\n",
       "      <td>A</td>\n",
       "      <td>2018</td>\n",
       "    </tr>\n",
       "    <tr>\n",
       "      <th>3</th>\n",
       "      <td>210354</td>\n",
       "      <td>20180119</td>\n",
       "      <td>20180112</td>\n",
       "      <td>AA 180119C20000</td>\n",
       "      <td>C</td>\n",
       "      <td>20.0</td>\n",
       "      <td>36.6</td>\n",
       "      <td>36.9</td>\n",
       "      <td>0</td>\n",
       "      <td>99</td>\n",
       "      <td>114695511</td>\n",
       "      <td>NaN</td>\n",
       "      <td>0</td>\n",
       "      <td>ALCOA CORP</td>\n",
       "      <td>A</td>\n",
       "      <td>2018</td>\n",
       "    </tr>\n",
       "    <tr>\n",
       "      <th>4</th>\n",
       "      <td>210354</td>\n",
       "      <td>20180119</td>\n",
       "      <td>20180112</td>\n",
       "      <td>AA 180119C21000</td>\n",
       "      <td>C</td>\n",
       "      <td>21.0</td>\n",
       "      <td>35.6</td>\n",
       "      <td>35.8</td>\n",
       "      <td>0</td>\n",
       "      <td>12</td>\n",
       "      <td>115694183</td>\n",
       "      <td>NaN</td>\n",
       "      <td>0</td>\n",
       "      <td>ALCOA CORP</td>\n",
       "      <td>A</td>\n",
       "      <td>2018</td>\n",
       "    </tr>\n",
       "  </tbody>\n",
       "</table>\n",
       "</div>"
      ],
      "text/plain": [
       "    secid    exdate      date           symbol cp_flag  STRIKE  best_bid  \\\n",
       "0  210354  20180119  20180112  AA 180119C17000       C    17.0      39.6   \n",
       "1  210354  20180119  20180112  AA 180119C18000       C    18.0      38.5   \n",
       "2  210354  20180119  20180112  AA 180119C19000       C    19.0      37.6   \n",
       "3  210354  20180119  20180112  AA 180119C20000       C    20.0      36.6   \n",
       "4  210354  20180119  20180112  AA 180119C21000       C    21.0      35.6   \n",
       "\n",
       "   best_offer  volume  open_interest   optionid  forward_price  index_flag  \\\n",
       "0        39.8       0              0  115694181            NaN           0   \n",
       "1        38.8       0              4  115145533            NaN           0   \n",
       "2        37.9       0              2  115694182            NaN           0   \n",
       "3        36.9       0             99  114695511            NaN           0   \n",
       "4        35.8       0             12  115694183            NaN           0   \n",
       "\n",
       "       issuer exercise_style  year  \n",
       "0  ALCOA CORP              A  2018  \n",
       "1  ALCOA CORP              A  2018  \n",
       "2  ALCOA CORP              A  2018  \n",
       "3  ALCOA CORP              A  2018  \n",
       "4  ALCOA CORP              A  2018  "
      ]
     },
     "execution_count": 3,
     "metadata": {},
     "output_type": "execute_result"
    }
   ],
   "source": [
    "opm.head()"
   ]
  },
  {
   "cell_type": "code",
   "execution_count": 9,
   "id": "fea3d7d2",
   "metadata": {},
   "outputs": [],
   "source": [
    "def clean_fairs(chain):\n",
    "    chain = chain.sort_values([\"cp_flag\", \"STRIKE\"]).reset_index()\n",
    "    phain = chain[chain['cp_flag'] == 'P']\n",
    "    chain = chain[chain['cp_flag'] == 'C']\n",
    "    chain['best_bid'] = -((-chain['best_bid']).cummax())\n",
    "    chain['best_offer'] = -((-chain['best_offer']).cummax())\n",
    "    phain['best_bid'] = ((phain['best_bid']).cummax())\n",
    "    phain['best_offer'] = ((phain['best_offer']).cummax())\n",
    "    chain[\"CV\"] = (chain[\"best_bid\"] + chain[\"best_offer\"]) / 2\n",
    "    phain[\"PV\"] = (phain[\"best_bid\"] + phain[\"best_offer\"]) / 2\n",
    "    chain = chain[[\"STRIKE\", \"CV\"]]\n",
    "    phain = phain[[\"STRIKE\", \"PV\"]]\n",
    "    df = chain.merge(phain, on='STRIKE')\n",
    "    df[\"V\"] = df[\"CV\"] + df[\"PV\"]# - (df['STRIKE'] - prc).abs()\n",
    "    return df"
   ]
  },
  {
   "cell_type": "code",
   "execution_count": 117,
   "id": "90611644",
   "metadata": {},
   "outputs": [],
   "source": [
    "# def clean_fairs(chain):\n",
    "#     chain = chain.sort_values([\"cp_flag\", \"STRIKE\"]).reset_index()\n",
    "#     phain = chain[chain['cp_flag'] == 'P']\n",
    "#     chain = chain[chain['cp_flag'] == 'C']\n",
    "#     chain['CV'] = -((-chain['opprc']).cummax())\n",
    "#     phain['PV'] = ((phain['opprc']).cummax())\n",
    "#     chain = chain[[\"STRIKE\", \"CV\"]]\n",
    "#     phain = phain[[\"STRIKE\", \"PV\"]]\n",
    "#     df = chain.merge(phain, on='STRIKE')\n",
    "#     df[\"V\"] = df[\"CV\"] + df[\"PV\"]\n",
    "#     return df"
   ]
  },
  {
   "cell_type": "code",
   "execution_count": 10,
   "id": "eeff49d7",
   "metadata": {},
   "outputs": [],
   "source": [
    "def implied_probs(chain, s=0.1, M=1000):\n",
    "    df = clean_fairs(chain)\n",
    "    df =  df.drop_duplicates(subset='STRIKE', keep=\"first\").reset_index()\n",
    "    if len(df) < 5:\n",
    "        return np.nan\n",
    "    spl = UnivariateSpline(df['STRIKE'], df['V'], k=4, s=s*df.shape[0])\n",
    "    df['Vhat'] = spl(df['STRIKE'])\n",
    "    df['IP'] = np.maximum(spl.derivative().derivative()(df['STRIKE']), 0)\n",
    "    df[\"PCDF\"] = df[\"IP\"].cumsum()\n",
    "    df[\"PCDF\"] = df[\"PCDF\"] / df[\"PCDF\"].max()\n",
    "    return df"
   ]
  },
  {
   "cell_type": "code",
   "execution_count": 11,
   "id": "feaf5659",
   "metadata": {},
   "outputs": [],
   "source": [
    "def implied_median(chain):\n",
    "    df = implied_probs(chain)\n",
    "    try:\n",
    "        mid_idx = df[(df['PCDF'] > 0.5)].index[0]\n",
    "        lb = df.loc[mid_idx-1, 'STRIKE']\n",
    "        lbp = df.loc[mid_idx-1, 'PCDF']\n",
    "        ub = df.loc[mid_idx, 'STRIKE']\n",
    "    except:\n",
    "        return np.nan\n",
    "    \n",
    "    ubp = df.loc[mid_idx, 'PCDF']\n",
    "    slope = (ubp - lbp) / (ub - lb)\n",
    "    res = (0.5 - lbp) / slope + lb\n",
    "    return res\n",
    "\n",
    "def implied_move(chain):\n",
    "    return implied_median(chain) / chain.PRC.max() - 1"
   ]
  },
  {
   "cell_type": "code",
   "execution_count": 120,
   "id": "a2d32f23",
   "metadata": {},
   "outputs": [],
   "source": [
    "# chain = opm[opm['secid'] == 106367]\n",
    "# chain = chain[chain['exdate'] == '2018-01-15']\n",
    "# df = implied_probs(chain)\n",
    "# print(implied_median(chain))"
   ]
  },
  {
   "cell_type": "code",
   "execution_count": 7,
   "id": "2e8c46ca",
   "metadata": {},
   "outputs": [
    {
     "data": {
      "text/plain": [
       "Index(['secid', 'exdate', 'date', 'symbol', 'cp_flag', 'STRIKE', 'best_bid',\n",
       "       'best_offer', 'volume', 'open_interest', 'optionid', 'forward_price',\n",
       "       'index_flag', 'issuer', 'exercise_style', 'year'],\n",
       "      dtype='object')"
      ]
     },
     "execution_count": 7,
     "metadata": {},
     "output_type": "execute_result"
    }
   ],
   "source": [
    "opm.columns"
   ]
  },
  {
   "cell_type": "code",
   "execution_count": 122,
   "id": "151575cb",
   "metadata": {},
   "outputs": [],
   "source": [
    "# df.plot(x='STRIKE', y='Vhat')\n",
    "# df.plot(x='STRIKE', y='IP')\n",
    "# df.plot(x='STRIKE', y='PCDF')"
   ]
  },
  {
   "cell_type": "code",
   "execution_count": 123,
   "id": "eea6d6ea",
   "metadata": {},
   "outputs": [
    {
     "data": {
      "text/plain": [
       "372.30307126506295"
      ]
     },
     "execution_count": 123,
     "metadata": {},
     "output_type": "execute_result"
    }
   ],
   "source": [
    "(df['IP'] * df['STRIKE']).sum() / df['IP'].sum()"
   ]
  },
  {
   "cell_type": "code",
   "execution_count": 12,
   "id": "cf44ff70",
   "metadata": {},
   "outputs": [
    {
     "data": {
      "text/plain": [
       "secid   exdate  \n",
       "8170    20180615     20.172486\n",
       "100862  20181221     38.995916\n",
       "100863  20180420     48.151437\n",
       "        20181019     41.366786\n",
       "100885  20181221     21.659527\n",
       "                       ...    \n",
       "212968  20181116     22.295341\n",
       "213004  20180817           NaN\n",
       "        20181116           NaN\n",
       "213114  20181116    101.881479\n",
       "213142  20181116     12.820376\n",
       "Length: 1442, dtype: float64"
      ]
     },
     "execution_count": 12,
     "metadata": {},
     "output_type": "execute_result"
    }
   ],
   "source": [
    "opm.groupby([\"secid\", \"exdate\"]).apply(implied_median)"
   ]
  },
  {
   "cell_type": "code",
   "execution_count": 15,
   "id": "1f5afba2",
   "metadata": {},
   "outputs": [],
   "source": [
    "opm_app_mean = opm.groupby([\"secid\", \"exdate\"]).apply(implied_median)"
   ]
  },
  {
   "cell_type": "code",
   "execution_count": 16,
   "id": "c89b8452",
   "metadata": {},
   "outputs": [],
   "source": [
    "opm_app_mean.to_csv(\"opm_app_mean.csv\")"
   ]
  }
 ],
 "metadata": {
  "kernelspec": {
   "display_name": "Python 3.9.6 64-bit",
   "language": "python",
   "name": "python396jvsc74a57bd0aee8b7b246df8f9039afb4144a1f6fd8d2ca17a180786b69acc140d282b71a49"
  },
  "language_info": {
   "codemirror_mode": {
    "name": "ipython",
    "version": 3
   },
   "file_extension": ".py",
   "mimetype": "text/x-python",
   "name": "python",
   "nbconvert_exporter": "python",
   "pygments_lexer": "ipython3",
   "version": "3.9.6"
  }
 },
 "nbformat": 4,
 "nbformat_minor": 5
}
