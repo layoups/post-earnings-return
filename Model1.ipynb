{
 "cells": [
  {
   "cell_type": "code",
   "execution_count": 113,
   "id": "becfc7a3",
   "metadata": {},
   "outputs": [],
   "source": [
    "import numpy as np\n",
    "import pandas as pd\n",
    "import time\n",
    "import wrds\n",
    "from matplotlib import pyplot as plt\n",
    "import datetime\n",
    "from dateutil.relativedelta import relativedelta\n",
    "from scipy.interpolate import UnivariateSpline, splev, splrep\n",
    "from scipy.optimize import minimize\n",
    "from math import *\n",
    "np.random.seed(6078)\n",
    "import warnings\n",
    "warnings.filterwarnings('ignore')\n",
    "# from dask.multiprocessing import get\n",
    "# import dask.dataframe as dd"
   ]
  },
  {
   "cell_type": "code",
   "execution_count": 114,
   "id": "4e275c14",
   "metadata": {},
   "outputs": [],
   "source": [
    "opm = pd.read_csv('merged_data.csv', nrows=200000)\n",
    "#opm['date'] = pd.to_datetime(opm['date'], format='%Y-%m-%d')\n",
    "#opm['exdate'] = pd.to_datetime(opm['exdate'], format='%Y-%m-%d')\n",
    "# opm = opm[(opm['exdate'] - opm['date'] == np.timedelta64(-8, 'D'))]\n",
    "opm.rename(columns={'strike_price': 'STRIKE'}, inplace=True)\n",
    "opm['STRIKE'] = opm['STRIKE']/1000"
   ]
  },
  {
   "cell_type": "code",
   "execution_count": 115,
   "id": "4c5f9d79",
   "metadata": {},
   "outputs": [
    {
     "data": {
      "text/html": [
       "<div>\n",
       "<style scoped>\n",
       "    .dataframe tbody tr th:only-of-type {\n",
       "        vertical-align: middle;\n",
       "    }\n",
       "\n",
       "    .dataframe tbody tr th {\n",
       "        vertical-align: top;\n",
       "    }\n",
       "\n",
       "    .dataframe thead th {\n",
       "        text-align: right;\n",
       "    }\n",
       "</style>\n",
       "<table border=\"1\" class=\"dataframe\">\n",
       "  <thead>\n",
       "    <tr style=\"text-align: right;\">\n",
       "      <th></th>\n",
       "      <th>secid</th>\n",
       "      <th>exdate</th>\n",
       "      <th>date</th>\n",
       "      <th>cp_flag</th>\n",
       "      <th>STRIKE</th>\n",
       "      <th>volume</th>\n",
       "      <th>open_interest</th>\n",
       "      <th>impl_volatility</th>\n",
       "      <th>opprc</th>\n",
       "      <th>moneyness</th>\n",
       "      <th>tte</th>\n",
       "      <th>close</th>\n",
       "      <th>spread</th>\n",
       "      <th>noi</th>\n",
       "    </tr>\n",
       "  </thead>\n",
       "  <tbody>\n",
       "    <tr>\n",
       "      <th>0</th>\n",
       "      <td>210354</td>\n",
       "      <td>20190719</td>\n",
       "      <td>20190711</td>\n",
       "      <td>C</td>\n",
       "      <td>14.0</td>\n",
       "      <td>0</td>\n",
       "      <td>44</td>\n",
       "      <td>1.651489</td>\n",
       "      <td>8.550</td>\n",
       "      <td>0.622222</td>\n",
       "      <td>8</td>\n",
       "      <td>22.5</td>\n",
       "      <td>0.50</td>\n",
       "      <td>0</td>\n",
       "    </tr>\n",
       "    <tr>\n",
       "      <th>1</th>\n",
       "      <td>210354</td>\n",
       "      <td>20190719</td>\n",
       "      <td>20190711</td>\n",
       "      <td>C</td>\n",
       "      <td>18.0</td>\n",
       "      <td>1</td>\n",
       "      <td>10</td>\n",
       "      <td>0.859370</td>\n",
       "      <td>4.550</td>\n",
       "      <td>0.800000</td>\n",
       "      <td>8</td>\n",
       "      <td>22.5</td>\n",
       "      <td>0.10</td>\n",
       "      <td>0</td>\n",
       "    </tr>\n",
       "    <tr>\n",
       "      <th>2</th>\n",
       "      <td>210354</td>\n",
       "      <td>20190719</td>\n",
       "      <td>20190711</td>\n",
       "      <td>C</td>\n",
       "      <td>19.0</td>\n",
       "      <td>0</td>\n",
       "      <td>3</td>\n",
       "      <td>0.814534</td>\n",
       "      <td>3.600</td>\n",
       "      <td>0.844444</td>\n",
       "      <td>8</td>\n",
       "      <td>22.5</td>\n",
       "      <td>0.20</td>\n",
       "      <td>0</td>\n",
       "    </tr>\n",
       "    <tr>\n",
       "      <th>3</th>\n",
       "      <td>210354</td>\n",
       "      <td>20190719</td>\n",
       "      <td>20190711</td>\n",
       "      <td>C</td>\n",
       "      <td>20.0</td>\n",
       "      <td>0</td>\n",
       "      <td>39</td>\n",
       "      <td>0.419988</td>\n",
       "      <td>2.525</td>\n",
       "      <td>0.888889</td>\n",
       "      <td>8</td>\n",
       "      <td>22.5</td>\n",
       "      <td>0.35</td>\n",
       "      <td>0</td>\n",
       "    </tr>\n",
       "    <tr>\n",
       "      <th>4</th>\n",
       "      <td>210354</td>\n",
       "      <td>20190719</td>\n",
       "      <td>20190711</td>\n",
       "      <td>C</td>\n",
       "      <td>21.0</td>\n",
       "      <td>14</td>\n",
       "      <td>396</td>\n",
       "      <td>0.651550</td>\n",
       "      <td>1.800</td>\n",
       "      <td>0.933333</td>\n",
       "      <td>8</td>\n",
       "      <td>22.5</td>\n",
       "      <td>0.10</td>\n",
       "      <td>-40</td>\n",
       "    </tr>\n",
       "  </tbody>\n",
       "</table>\n",
       "</div>"
      ],
      "text/plain": [
       "    secid    exdate      date cp_flag  STRIKE  volume  open_interest  \\\n",
       "0  210354  20190719  20190711       C    14.0       0             44   \n",
       "1  210354  20190719  20190711       C    18.0       1             10   \n",
       "2  210354  20190719  20190711       C    19.0       0              3   \n",
       "3  210354  20190719  20190711       C    20.0       0             39   \n",
       "4  210354  20190719  20190711       C    21.0      14            396   \n",
       "\n",
       "   impl_volatility  opprc  moneyness  tte  close  spread  noi  \n",
       "0         1.651489  8.550   0.622222    8   22.5    0.50    0  \n",
       "1         0.859370  4.550   0.800000    8   22.5    0.10    0  \n",
       "2         0.814534  3.600   0.844444    8   22.5    0.20    0  \n",
       "3         0.419988  2.525   0.888889    8   22.5    0.35    0  \n",
       "4         0.651550  1.800   0.933333    8   22.5    0.10  -40  "
      ]
     },
     "execution_count": 115,
     "metadata": {},
     "output_type": "execute_result"
    }
   ],
   "source": [
    "opm.head()"
   ]
  },
  {
   "cell_type": "code",
   "execution_count": 116,
   "id": "fea3d7d2",
   "metadata": {},
   "outputs": [],
   "source": [
    "# def clean_fairs(chain):\n",
    "#     chain = chain.sort_values([\"cp_flag\", \"STRIKE\"]).reset_index()\n",
    "#     phain = chain[chain['cp_flag'] == 'P']\n",
    "#     chain = chain[chain['cp_flag'] == 'C']\n",
    "#     chain['best_bid'] = -((-chain['best_bid']).cummax())\n",
    "#     chain['best_offer'] = -((-chain['best_offer']).cummax())\n",
    "#     phain['best_bid'] = ((phain['best_bid']).cummax())\n",
    "#     phain['best_offer'] = ((phain['best_offer']).cummax())\n",
    "#     prc = chain.PRC.max()\n",
    "#     chain[\"CV\"] = (chain[\"best_bid\"] + chain[\"best_offer\"]) / 2\n",
    "#     phain[\"PV\"] = (phain[\"best_bid\"] + phain[\"best_offer\"]) / 2\n",
    "#     chain = chain[[\"STRIKE\", \"CV\"]]\n",
    "#     phain = phain[[\"STRIKE\", \"PV\"]]\n",
    "#     df = chain.merge(phain, on='STRIKE')\n",
    "#     df[\"V\"] = df[\"CV\"] + df[\"PV\"]# - (df['STRIKE'] - prc).abs()\n",
    "#     return df"
   ]
  },
  {
   "cell_type": "code",
   "execution_count": 117,
   "id": "90611644",
   "metadata": {},
   "outputs": [],
   "source": [
    "def clean_fairs(chain):\n",
    "    chain = chain.sort_values([\"cp_flag\", \"STRIKE\"]).reset_index()\n",
    "    phain = chain[chain['cp_flag'] == 'P']\n",
    "    chain = chain[chain['cp_flag'] == 'C']\n",
    "    chain['CV'] = -((-chain['opprc']).cummax())\n",
    "    phain['PV'] = ((phain['opprc']).cummax())\n",
    "    chain = chain[[\"STRIKE\", \"CV\"]]\n",
    "    phain = phain[[\"STRIKE\", \"PV\"]]\n",
    "    df = chain.merge(phain, on='STRIKE')\n",
    "    df[\"V\"] = df[\"CV\"] + df[\"PV\"]\n",
    "    return df"
   ]
  },
  {
   "cell_type": "code",
   "execution_count": 118,
   "id": "eeff49d7",
   "metadata": {},
   "outputs": [],
   "source": [
    "def implied_probs(chain, s=0.1, M=1000):\n",
    "    df = clean_fairs(chain)\n",
    "    df =  df.drop_duplicates(subset='STRIKE', keep=\"first\").reset_index()\n",
    "    if len(df) < 5:\n",
    "        return np.nan\n",
    "    spl = UnivariateSpline(df['STRIKE'], df['V'], k=4, s=s*df.shape[0])\n",
    "    df['Vhat'] = spl(df['STRIKE'])\n",
    "    df['IP'] = np.maximum(spl.derivative().derivative()(df['STRIKE']), 0)\n",
    "    df[\"PCDF\"] = df[\"IP\"].cumsum()\n",
    "    df[\"PCDF\"] = df[\"PCDF\"] / df[\"PCDF\"].max()\n",
    "    return df"
   ]
  },
  {
   "cell_type": "code",
   "execution_count": 119,
   "id": "feaf5659",
   "metadata": {},
   "outputs": [],
   "source": [
    "def implied_median(chain):\n",
    "    df = implied_probs(chain)\n",
    "    try:\n",
    "        mid_idx = df[(df['PCDF'] > 0.5)].index[0]\n",
    "        lb = df.loc[mid_idx-1, 'STRIKE']\n",
    "        lbp = df.loc[mid_idx-1, 'PCDF']\n",
    "        ub = df.loc[mid_idx, 'STRIKE']\n",
    "    except:\n",
    "        return np.nan\n",
    "    \n",
    "    ubp = df.loc[mid_idx, 'PCDF']\n",
    "    slope = (ubp - lbp) / (ub - lb)\n",
    "    res = (0.5 - lbp) / slope + lb\n",
    "    return res\n",
    "\n",
    "def implied_move(chain):\n",
    "    return implied_median(chain) / chain.PRC.max() - 1"
   ]
  },
  {
   "cell_type": "code",
   "execution_count": 120,
   "id": "a2d32f23",
   "metadata": {},
   "outputs": [],
   "source": [
    "# chain = opm[opm['secid'] == 106367]\n",
    "# chain = chain[chain['exdate'] == '2018-01-15']\n",
    "# df = implied_probs(chain)\n",
    "# print(implied_median(chain))"
   ]
  },
  {
   "cell_type": "code",
   "execution_count": 121,
   "id": "2e8c46ca",
   "metadata": {},
   "outputs": [
    {
     "data": {
      "text/plain": [
       "Index(['secid', 'exdate', 'date', 'cp_flag', 'STRIKE', 'volume',\n",
       "       'open_interest', 'impl_volatility', 'opprc', 'moneyness', 'tte',\n",
       "       'close', 'spread', 'noi'],\n",
       "      dtype='object')"
      ]
     },
     "execution_count": 121,
     "metadata": {},
     "output_type": "execute_result"
    }
   ],
   "source": [
    "opm.columns"
   ]
  },
  {
   "cell_type": "code",
   "execution_count": 122,
   "id": "151575cb",
   "metadata": {},
   "outputs": [],
   "source": [
    "# df.plot(x='STRIKE', y='Vhat')\n",
    "# df.plot(x='STRIKE', y='IP')\n",
    "# df.plot(x='STRIKE', y='PCDF')"
   ]
  },
  {
   "cell_type": "code",
   "execution_count": 123,
   "id": "eea6d6ea",
   "metadata": {},
   "outputs": [
    {
     "data": {
      "text/plain": [
       "372.30307126506295"
      ]
     },
     "execution_count": 123,
     "metadata": {},
     "output_type": "execute_result"
    }
   ],
   "source": [
    "(df['IP'] * df['STRIKE']).sum() / df['IP'].sum()"
   ]
  },
  {
   "cell_type": "code",
   "execution_count": 124,
   "id": "cf44ff70",
   "metadata": {},
   "outputs": [
    {
     "data": {
      "text/plain": [
       "secid   exdate  \n",
       "8170    20180615          NaN\n",
       "        20190215          NaN\n",
       "        20191115          NaN\n",
       "100862  20181221          NaN\n",
       "        20191220          NaN\n",
       "                      ...    \n",
       "213731  20190906    91.806615\n",
       "213761  20191115          NaN\n",
       "213776  20190920    28.744683\n",
       "        20191213    24.137452\n",
       "213814  20191115          NaN\n",
       "Length: 2541, dtype: float64"
      ]
     },
     "execution_count": 124,
     "metadata": {},
     "output_type": "execute_result"
    }
   ],
   "source": [
    "opm.groupby([\"secid\", \"exdate\"]).apply(implied_median)"
   ]
  },
  {
   "cell_type": "code",
   "execution_count": 126,
   "id": "1f5afba2",
   "metadata": {},
   "outputs": [],
   "source": [
    "opm_app_mean = opm.groupby([\"secid\", \"exdate\"]).apply(implied_median)"
   ]
  },
  {
   "cell_type": "code",
   "execution_count": 127,
   "id": "c89b8452",
   "metadata": {},
   "outputs": [],
   "source": [
    "opm_app_mean.to_csv(\"opm_app_mean.csv\")"
   ]
  }
 ],
 "metadata": {
  "kernelspec": {
   "display_name": "Python 3.9.6 64-bit",
   "language": "python",
   "name": "python396jvsc74a57bd0aee8b7b246df8f9039afb4144a1f6fd8d2ca17a180786b69acc140d282b71a49"
  },
  "language_info": {
   "codemirror_mode": {
    "name": "ipython",
    "version": 3
   },
   "file_extension": ".py",
   "mimetype": "text/x-python",
   "name": "python",
   "nbconvert_exporter": "python",
   "pygments_lexer": "ipython3",
   "version": "3.9.6"
  }
 },
 "nbformat": 4,
 "nbformat_minor": 5
}
